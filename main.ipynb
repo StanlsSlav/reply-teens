{
 "cells": [
  {
   "cell_type": "code",
   "execution_count": 21,
   "metadata": {},
   "outputs": [],
   "source": [
    "with open(\"output.txt\", \"w\") as f:\n",
    "    f.write(\"\")"
   ]
  },
  {
   "cell_type": "code",
   "execution_count": 22,
   "metadata": {},
   "outputs": [],
   "source": [
    "i = 0\n",
    "current_budget = 0\n",
    "final_budget = 0\n",
    "\n",
    "slot_machines = []\n",
    "slot_machines_used = 0\n",
    "\n",
    "def reset_variables():\n",
    "    global current_budget, final_budget, slot_machines, slot_machines_used\n",
    "    \n",
    "    current_budget = 0\n",
    "    final_budget = 0\n",
    "\n",
    "    slot_machines = []\n",
    "    slot_machines_used = 0"
   ]
  },
  {
   "cell_type": "code",
   "execution_count": 23,
   "metadata": {},
   "outputs": [],
   "source": [
    "class SlotMachine:\n",
    "    def __init__(self, cost: int, reward: int):\n",
    "        self.reward = reward\n",
    "        self.cost = cost\n",
    "        \n",
    "    def play(self):\n",
    "        global current_budget, slot_machines_used\n",
    "        \n",
    "        if not self.can_buy():\n",
    "            raise Exception(f\"Not enough money to buy {self.cost}\")\n",
    "\n",
    "        current_budget += self.reward - self.cost\n",
    "        slot_machines_used += 1\n",
    "        \n",
    "    def can_buy(self):\n",
    "        return current_budget >= self.cost\n",
    "    \n",
    "def parse_first_line(line):\n",
    "    global total_slot_machines, final_budget, current_budget\n",
    "    \n",
    "    total_slot_machines = int(line[0])\n",
    "    final_budget = int(line[1])\n",
    "    current_budget = int(line[2])\n",
    "\n",
    "def is_target_reached():\n",
    "    global current_budget, final_budget\n",
    "    return current_budget >= final_budget\n",
    "\n",
    "def available_slots():\n",
    "    global slot_machines\n",
    "    return [x for x in slot_machines if x.can_buy()]\n",
    "\n",
    "def minimum_used_slots():\n",
    "    global slot_machines, current_budget, final_budget, slot_machines_used, i\n",
    "    \n",
    "    while not is_target_reached():\n",
    "        # Get the highest rewarding available slot machines sorted by reward\n",
    "        highest_rewarding = sorted(available_slots(), key=lambda x:x.reward - x.cost, reverse=True)[0]\n",
    "        highest_rewarding.play()\n",
    "        \n",
    "    with open('output.txt', 'a') as f:\n",
    "        i += 1\n",
    "        output = f\"Case #{i}: {slot_machines_used}\\n\"\n",
    "        print(output)\n",
    "        f.write(output)\n",
    "        \n",
    "    reset_variables()\n",
    "    "
   ]
  },
  {
   "cell_type": "code",
   "execution_count": 24,
   "metadata": {},
   "outputs": [
    {
     "name": "stdout",
     "output_type": "stream",
     "text": [
      "Case #1: 984\n",
      "\n",
      "Case #2: 990\n",
      "\n",
      "Case #3: 373\n",
      "\n"
     ]
    },
    {
     "ename": "KeyboardInterrupt",
     "evalue": "",
     "output_type": "error",
     "traceback": [
      "\u001b[0;31m---------------------------------------------------------------------------\u001b[0m",
      "\u001b[0;31mKeyboardInterrupt\u001b[0m                         Traceback (most recent call last)",
      "Cell \u001b[0;32mIn[24], line 16\u001b[0m\n\u001b[1;32m     14\u001b[0m slot_machines\u001b[39m.\u001b[39mappend(SlotMachine(cost, reward))\n\u001b[1;32m     15\u001b[0m \u001b[39mif\u001b[39;00m total_slot_machines \u001b[39m==\u001b[39m \u001b[39mlen\u001b[39m(slot_machines):\n\u001b[0;32m---> 16\u001b[0m     minimum_used_slots()\n",
      "Cell \u001b[0;32mIn[23], line 38\u001b[0m, in \u001b[0;36mminimum_used_slots\u001b[0;34m()\u001b[0m\n\u001b[1;32m     34\u001b[0m \u001b[39mglobal\u001b[39;00m slot_machines, current_budget, final_budget, slot_machines_used, i\n\u001b[1;32m     36\u001b[0m \u001b[39mwhile\u001b[39;00m \u001b[39mnot\u001b[39;00m is_target_reached():\n\u001b[1;32m     37\u001b[0m     \u001b[39m# Get the highest rewarding available slot machines sorted by reward\u001b[39;00m\n\u001b[0;32m---> 38\u001b[0m     highest_rewarding \u001b[39m=\u001b[39m \u001b[39msorted\u001b[39m(available_slots(), key\u001b[39m=\u001b[39m\u001b[39mlambda\u001b[39;00m x:x\u001b[39m.\u001b[39mreward \u001b[39m-\u001b[39m x\u001b[39m.\u001b[39mcost, reverse\u001b[39m=\u001b[39m\u001b[39mTrue\u001b[39;00m)[\u001b[39m0\u001b[39m]\n\u001b[1;32m     39\u001b[0m     highest_rewarding\u001b[39m.\u001b[39mplay()\n\u001b[1;32m     41\u001b[0m \u001b[39mwith\u001b[39;00m \u001b[39mopen\u001b[39m(\u001b[39m'\u001b[39m\u001b[39moutput.txt\u001b[39m\u001b[39m'\u001b[39m, \u001b[39m'\u001b[39m\u001b[39ma\u001b[39m\u001b[39m'\u001b[39m) \u001b[39mas\u001b[39;00m f:\n",
      "Cell \u001b[0;32mIn[23], line 31\u001b[0m, in \u001b[0;36mavailable_slots\u001b[0;34m()\u001b[0m\n\u001b[1;32m     29\u001b[0m \u001b[39mdef\u001b[39;00m \u001b[39mavailable_slots\u001b[39m():\n\u001b[1;32m     30\u001b[0m     \u001b[39mglobal\u001b[39;00m slot_machines\n\u001b[0;32m---> 31\u001b[0m     \u001b[39mreturn\u001b[39;00m [x \u001b[39mfor\u001b[39;00m x \u001b[39min\u001b[39;00m slot_machines \u001b[39mif\u001b[39;00m x\u001b[39m.\u001b[39mcan_buy()]\n",
      "Cell \u001b[0;32mIn[23], line 31\u001b[0m, in \u001b[0;36m<listcomp>\u001b[0;34m(.0)\u001b[0m\n\u001b[1;32m     29\u001b[0m \u001b[39mdef\u001b[39;00m \u001b[39mavailable_slots\u001b[39m():\n\u001b[1;32m     30\u001b[0m     \u001b[39mglobal\u001b[39;00m slot_machines\n\u001b[0;32m---> 31\u001b[0m     \u001b[39mreturn\u001b[39;00m [x \u001b[39mfor\u001b[39;00m x \u001b[39min\u001b[39;00m slot_machines \u001b[39mif\u001b[39;00m x\u001b[39m.\u001b[39;49mcan_buy()]\n",
      "Cell \u001b[0;32mIn[23], line 15\u001b[0m, in \u001b[0;36mSlotMachine.can_buy\u001b[0;34m(self)\u001b[0m\n\u001b[1;32m     12\u001b[0m     current_budget \u001b[39m+\u001b[39m\u001b[39m=\u001b[39m \u001b[39mself\u001b[39m\u001b[39m.\u001b[39mreward \u001b[39m-\u001b[39m \u001b[39mself\u001b[39m\u001b[39m.\u001b[39mcost\n\u001b[1;32m     13\u001b[0m     slot_machines_used \u001b[39m+\u001b[39m\u001b[39m=\u001b[39m \u001b[39m1\u001b[39m\n\u001b[0;32m---> 15\u001b[0m \u001b[39mdef\u001b[39;00m \u001b[39mcan_buy\u001b[39m(\u001b[39mself\u001b[39m):\n\u001b[1;32m     16\u001b[0m     \u001b[39mreturn\u001b[39;00m current_budget \u001b[39m>\u001b[39m\u001b[39m=\u001b[39m \u001b[39mself\u001b[39m\u001b[39m.\u001b[39mcost\n",
      "\u001b[0;31mKeyboardInterrupt\u001b[0m: "
     ]
    }
   ],
   "source": [
    "with open('input.txt', 'r') as f:\n",
    "    lines = f.readlines()\n",
    "    test_cases = int(lines[0])\n",
    "    \n",
    "    for line in lines[1:]:\n",
    "        line = line.strip().split(' ')\n",
    "        if len(line) == 3:\n",
    "            parse_first_line(line)\n",
    "            continue\n",
    "\n",
    "        cost = int(line[0])\n",
    "        reward = int(line[1])\n",
    "\n",
    "        slot_machines.append(SlotMachine(cost, reward))\n",
    "        if total_slot_machines == len(slot_machines):\n",
    "            minimum_used_slots()"
   ]
  }
 ],
 "metadata": {
  "kernelspec": {
   "display_name": "Python 3",
   "language": "python",
   "name": "python3"
  },
  "language_info": {
   "codemirror_mode": {
    "name": "ipython",
    "version": 3
   },
   "file_extension": ".py",
   "mimetype": "text/x-python",
   "name": "python",
   "nbconvert_exporter": "python",
   "pygments_lexer": "ipython3",
   "version": "3.10.4"
  },
  "orig_nbformat": 4
 },
 "nbformat": 4,
 "nbformat_minor": 2
}
